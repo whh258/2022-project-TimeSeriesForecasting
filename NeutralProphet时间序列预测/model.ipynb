{
 "cells": [
  {
   "cell_type": "code",
   "execution_count": 11,
   "id": "6e18d280",
   "metadata": {},
   "outputs": [
    {
     "name": "stdout",
     "output_type": "stream",
     "text": [
      "           ds           y\n",
      "82  2021/11/1  4211547876\n",
      "83  2021/12/1  2034786381\n",
      "84   2022/1/1  1712637446\n",
      "85   2022/2/1  1794240666\n",
      "86   2022/3/1  2207184138\n"
     ]
    }
   ],
   "source": [
    "\"\"\"\n",
    "Created on Sun Jul 17 00:00:09 2022\n",
    "\n",
    "@author: whh\n",
    "\n",
    "vx: 15967946943\n",
    "\n",
    "功能：已知2015-01-01到2021-12-01的五年跨境电商货值，基于NeutralProphet模型预测未来 N 个月份的跨境电商货值。\n",
    "\"\"\"\n",
    "\n",
    "\n",
    "import pandas as pd\n",
    "import numpy as np\n",
    "import matplotlib.pyplot as plt\n",
    "import warnings\n",
    "warnings.filterwarnings('ignore')\n",
    "\n",
    "from neuralprophet import NeuralProphet\n",
    "from neuralprophet import set_random_seed\n",
    "set_random_seed(11)\n",
    "\n",
    "\n",
    "\n",
    "# 读取数据\n",
    "Alldata = pd.read_csv('./货值.csv', encoding='gbk')[['年月', '货值']]\n",
    "Alldata.columns = ['ds', 'y']\n",
    "print(Alldata.tail())"
   ]
  },
  {
   "cell_type": "markdown",
   "id": "8c89be9c",
   "metadata": {},
   "source": [
    "# 预测2022.1 & 2 & 3"
   ]
  },
  {
   "cell_type": "code",
   "execution_count": 12,
   "id": "dfa2c9ec",
   "metadata": {},
   "outputs": [
    {
     "name": "stderr",
     "output_type": "stream",
     "text": [
      "INFO - (NP.df_utils._infer_frequency) - Major frequency MS corresponds to 90.476% of the data.\n",
      "INFO - (NP.df_utils._infer_frequency) - Defined frequency is equal to major frequency - MS\n",
      "INFO - (NP.config.init_data_params) - Setting normalization to global as only one dataframe provided for training.\n",
      "INFO - (NP.utils.set_auto_seasonalities) - Disabling weekly seasonality. Run NeuralProphet with weekly_seasonality=True to override this.\n",
      "INFO - (NP.utils.set_auto_seasonalities) - Disabling daily seasonality. Run NeuralProphet with daily_seasonality=True to override this.\n",
      "INFO - (NP.config.set_auto_batch_epoch) - Auto-set batch_size to 16\n",
      "INFO - (NP.config.set_auto_batch_epoch) - Auto-set epochs to 602\n"
     ]
    },
    {
     "data": {
      "application/vnd.jupyter.widget-view+json": {
       "model_id": "cdb0484b4a5e462fa059703098ee4d6f",
       "version_major": 2,
       "version_minor": 0
      },
      "text/plain": [
       "  0%|          | 0/106 [00:00<?, ?it/s]"
      ]
     },
     "metadata": {},
     "output_type": "display_data"
    },
    {
     "name": "stderr",
     "output_type": "stream",
     "text": [
      "INFO - (NP.utils_torch.lr_range_test) - lr-range-test results: steep: 7.20E-01, min: 6.74E-02\n"
     ]
    },
    {
     "data": {
      "application/vnd.jupyter.widget-view+json": {
       "model_id": "813d7ed01223457f9c0c44b60577b793",
       "version_major": 2,
       "version_minor": 0
      },
      "text/plain": [
       "  0%|          | 0/106 [00:00<?, ?it/s]"
      ]
     },
     "metadata": {},
     "output_type": "display_data"
    },
    {
     "name": "stderr",
     "output_type": "stream",
     "text": [
      "INFO - (NP.utils_torch.lr_range_test) - lr-range-test results: steep: 4.25E+00, min: 1.39E-02\n",
      "INFO - (NP.forecaster._init_train_loader) - lr-range-test selected learning rate: 6.74E-01\n",
      "Epoch[602/602]: 100%|████| 602/602 [00:07<00:00, 77.17it/s, SmoothL1Loss=0.00112, MAE=8.43e+7, RMSE=1.27e+8, RegLoss=0]\n",
      "INFO - (NP.df_utils._infer_frequency) - Major frequency MS corresponds to 90.476% of the data.\n",
      "INFO - (NP.df_utils._infer_frequency) - Defined frequency is equal to major frequency - MS\n",
      "INFO - (NP.df_utils._infer_frequency) - Major frequency MS corresponds to 89.655% of the data.\n",
      "INFO - (NP.df_utils._infer_frequency) - Defined frequency is equal to major frequency - MS\n",
      "INFO - (NP.df_utils._infer_frequency) - Major frequency MS corresponds to 89.655% of the data.\n",
      "INFO - (NP.df_utils._infer_frequency) - Defined frequency is equal to major frequency - MS\n"
     ]
    },
    {
     "data": {
      "text/html": [
       "<div>\n",
       "<style scoped>\n",
       "    .dataframe tbody tr th:only-of-type {\n",
       "        vertical-align: middle;\n",
       "    }\n",
       "\n",
       "    .dataframe tbody tr th {\n",
       "        vertical-align: top;\n",
       "    }\n",
       "\n",
       "    .dataframe thead th {\n",
       "        text-align: right;\n",
       "    }\n",
       "</style>\n",
       "<table border=\"1\" class=\"dataframe\">\n",
       "  <thead>\n",
       "    <tr style=\"text-align: right;\">\n",
       "      <th></th>\n",
       "      <th>real</th>\n",
       "      <th>predict</th>\n",
       "    </tr>\n",
       "    <tr>\n",
       "      <th>ds</th>\n",
       "      <th></th>\n",
       "      <th></th>\n",
       "    </tr>\n",
       "  </thead>\n",
       "  <tbody>\n",
       "    <tr>\n",
       "      <th>2022/1/1</th>\n",
       "      <td>1.712637e+09</td>\n",
       "      <td>1.921824e+09</td>\n",
       "    </tr>\n",
       "    <tr>\n",
       "      <th>2022/2/1</th>\n",
       "      <td>1.794241e+09</td>\n",
       "      <td>1.473671e+09</td>\n",
       "    </tr>\n",
       "    <tr>\n",
       "      <th>2022/3/1</th>\n",
       "      <td>2.207184e+09</td>\n",
       "      <td>2.442778e+09</td>\n",
       "    </tr>\n",
       "  </tbody>\n",
       "</table>\n",
       "</div>"
      ],
      "text/plain": [
       "                  real       predict\n",
       "ds                                  \n",
       "2022/1/1  1.712637e+09  1.921824e+09\n",
       "2022/2/1  1.794241e+09  1.473671e+09\n",
       "2022/3/1  2.207184e+09  2.442778e+09"
      ]
     },
     "execution_count": 12,
     "metadata": {},
     "output_type": "execute_result"
    },
    {
     "data": {
      "image/png": "[encoded data removed]",
      "text/plain": [
       "<Figure size 432x288 with 1 Axes>"
      ]
     },
     "metadata": {
      "needs_background": "light"
     },
     "output_type": "display_data"
    }
   ],
   "source": [
    "# 划分训练部分，train——>训练数据（2017.1-2021.12）\n",
    "train=  Alldata[:-3]\n",
    "\n",
    "\n",
    "\n",
    "# 模型训练\n",
    "m = NeuralProphet(seasonality_mode=\"multiplicative\")\n",
    "metrics = m.fit(train, freq=\"MS\")\n",
    "\n",
    "\n",
    "\n",
    "# 预测2022.1/2/3\n",
    "forecast_len = 3\n",
    "future = m.make_future_dataframe(df=train, periods=forecast_len, n_historic_predictions=len(train))\n",
    "forecast = m.predict(df=future)\n",
    "\n",
    "df = pd.DataFrame([Alldata.y[-forecast_len:],  forecast.yhat1[-forecast_len:]], index=['real', 'predict']).T\n",
    "df.index = Alldata.ds[-forecast_len:]\n",
    "\n",
    "\n",
    "# 可视化\n",
    "plt.plot(Alldata.y[-forecast_len:], 'b', label='real')\n",
    "plt.plot(forecast.yhat1[-forecast_len:], 'g', label='pre')\n",
    "plt.title('2022.1-2021.3')\n",
    "plt.legend()\n",
    "df"
   ]
  },
  {
   "cell_type": "markdown",
   "id": "85fafede",
   "metadata": {},
   "source": [
    "# 预测2021.7-2021.12"
   ]
  },
  {
   "cell_type": "code",
   "execution_count": 15,
   "id": "fb904fe0",
   "metadata": {},
   "outputs": [
    {
     "name": "stderr",
     "output_type": "stream",
     "text": [
      "INFO - (NP.df_utils._infer_frequency) - Major frequency MS corresponds to 89.744% of the data.\n",
      "INFO - (NP.df_utils._infer_frequency) - Defined frequency is equal to major frequency - MS\n",
      "INFO - (NP.config.init_data_params) - Setting normalization to global as only one dataframe provided for training.\n",
      "INFO - (NP.utils.set_auto_seasonalities) - Disabling weekly seasonality. Run NeuralProphet with weekly_seasonality=True to override this.\n",
      "INFO - (NP.utils.set_auto_seasonalities) - Disabling daily seasonality. Run NeuralProphet with daily_seasonality=True to override this.\n",
      "INFO - (NP.config.set_auto_batch_epoch) - Auto-set batch_size to 16\n",
      "INFO - (NP.config.set_auto_batch_epoch) - Auto-set epochs to 633\n"
     ]
    },
    {
     "data": {
      "application/vnd.jupyter.widget-view+json": {
       "model_id": "faadf7b77a754aea8e7a9aa901b27e07",
       "version_major": 2,
       "version_minor": 0
      },
      "text/plain": [
       "  0%|          | 0/106 [00:00<?, ?it/s]"
      ]
     },
     "metadata": {},
     "output_type": "display_data"
    },
    {
     "name": "stderr",
     "output_type": "stream",
     "text": [
      "INFO - (NP.utils_torch.lr_range_test) - lr-range-test results: steep: 2.87E+00, min: 1.81E-01\n"
     ]
    },
    {
     "data": {
      "application/vnd.jupyter.widget-view+json": {
       "model_id": "340ed2dd319d4c12917651586ff8fbd3",
       "version_major": 2,
       "version_minor": 0
      },
      "text/plain": [
       "  0%|          | 0/106 [00:00<?, ?it/s]"
      ]
     },
     "metadata": {},
     "output_type": "display_data"
    },
    {
     "name": "stderr",
     "output_type": "stream",
     "text": [
      "INFO - (NP.utils_torch.lr_range_test) - lr-range-test results: steep: 1.93E+00, min: 1.81E-01\n",
      "INFO - (NP.forecaster._init_train_loader) - lr-range-test selected learning rate: 8.21E-01\n",
      "Epoch[633/633]: 100%|████| 633/633 [00:07<00:00, 90.10it/s, SmoothL1Loss=0.00131, MAE=8.36e+7, RMSE=1.33e+8, RegLoss=0]\n",
      "INFO - (NP.df_utils._infer_frequency) - Major frequency MS corresponds to 89.744% of the data.\n",
      "INFO - (NP.df_utils._infer_frequency) - Defined frequency is equal to major frequency - MS\n",
      "INFO - (NP.df_utils._infer_frequency) - Major frequency MS corresponds to 90.476% of the data.\n",
      "INFO - (NP.df_utils._infer_frequency) - Defined frequency is equal to major frequency - MS\n",
      "INFO - (NP.df_utils._infer_frequency) - Major frequency MS corresponds to 90.476% of the data.\n",
      "INFO - (NP.df_utils._infer_frequency) - Defined frequency is equal to major frequency - MS\n"
     ]
    },
    {
     "data": {
      "text/html": [
       "<div>\n",
       "<style scoped>\n",
       "    .dataframe tbody tr th:only-of-type {\n",
       "        vertical-align: middle;\n",
       "    }\n",
       "\n",
       "    .dataframe tbody tr th {\n",
       "        vertical-align: top;\n",
       "    }\n",
       "\n",
       "    .dataframe thead th {\n",
       "        text-align: right;\n",
       "    }\n",
       "</style>\n",
       "<table border=\"1\" class=\"dataframe\">\n",
       "  <thead>\n",
       "    <tr style=\"text-align: right;\">\n",
       "      <th></th>\n",
       "      <th>real</th>\n",
       "      <th>predict</th>\n",
       "    </tr>\n",
       "    <tr>\n",
       "      <th>ds</th>\n",
       "      <th></th>\n",
       "      <th></th>\n",
       "    </tr>\n",
       "  </thead>\n",
       "  <tbody>\n",
       "    <tr>\n",
       "      <th>2021/7/1</th>\n",
       "      <td>1.537618e+09</td>\n",
       "      <td>1.596164e+09</td>\n",
       "    </tr>\n",
       "    <tr>\n",
       "      <th>2021/8/1</th>\n",
       "      <td>1.927191e+09</td>\n",
       "      <td>1.887951e+09</td>\n",
       "    </tr>\n",
       "    <tr>\n",
       "      <th>2021/9/1</th>\n",
       "      <td>1.851000e+09</td>\n",
       "      <td>1.874966e+09</td>\n",
       "    </tr>\n",
       "    <tr>\n",
       "      <th>2021/10/1</th>\n",
       "      <td>1.844719e+09</td>\n",
       "      <td>1.606514e+09</td>\n",
       "    </tr>\n",
       "    <tr>\n",
       "      <th>2021/11/1</th>\n",
       "      <td>4.211548e+09</td>\n",
       "      <td>4.039263e+09</td>\n",
       "    </tr>\n",
       "    <tr>\n",
       "      <th>2021/12/1</th>\n",
       "      <td>2.034786e+09</td>\n",
       "      <td>1.854397e+09</td>\n",
       "    </tr>\n",
       "  </tbody>\n",
       "</table>\n",
       "</div>"
      ],
      "text/plain": [
       "                   real       predict\n",
       "ds                                   \n",
       "2021/7/1   1.537618e+09  1.596164e+09\n",
       "2021/8/1   1.927191e+09  1.887951e+09\n",
       "2021/9/1   1.851000e+09  1.874966e+09\n",
       "2021/10/1  1.844719e+09  1.606514e+09\n",
       "2021/11/1  4.211548e+09  4.039263e+09\n",
       "2021/12/1  2.034786e+09  1.854397e+09"
      ]
     },
     "execution_count": 15,
     "metadata": {},
     "output_type": "execute_result"
    },
    {
     "data": {
      "image/png": "[encoded data removed]",
      "text/plain": [
       "<Figure size 432x288 with 1 Axes>"
      ]
     },
     "metadata": {
      "needs_background": "light"
     },
     "output_type": "display_data"
    }
   ],
   "source": [
    "# 划分训练部分，train——>训练数据（2017.1-2021.6）\n",
    "train=  Alldata[:-9]\n",
    "\n",
    "\n",
    "# 模型训练\n",
    "m = NeuralProphet(seasonality_mode=\"multiplicative\" )\n",
    "metrics = m.fit(train, freq=\"MS\")\n",
    "\n",
    "\n",
    "# 预测2021.7-2021.12\n",
    "future = m.make_future_dataframe(df=train, periods=6, n_historic_predictions=len(train))\n",
    "forecast = m.predict(df=future)\n",
    "\n",
    "df = pd.DataFrame([Alldata.y[-9:-3],  forecast.yhat1[-6:]], index=['real', 'predict']).T\n",
    "df.index = Alldata.ds[-9:-3]\n",
    "\n",
    "\n",
    "# 可视化\n",
    "plt.plot(Alldata.y[-9:-3], 'b', label='real')\n",
    "plt.plot(forecast.yhat1[-6:], 'g', label='pre')\n",
    "plt.title('2021.7-2021.12')\n",
    "plt.legend()\n",
    "df"
   ]
  },
  {
   "cell_type": "code",
   "execution_count": 16,
   "id": "cf46dfd1",
   "metadata": {},
   "outputs": [
    {
     "name": "stderr",
     "output_type": "stream",
     "text": [
      "INFO - (NP.df_utils._infer_frequency) - Major frequency MS corresponds to 90.278% of the data.\n",
      "INFO - (NP.df_utils._infer_frequency) - Defined frequency is equal to major frequency - MS\n",
      "INFO - (NP.config.init_data_params) - Setting normalization to global as only one dataframe provided for training.\n",
      "INFO - (NP.utils.set_auto_seasonalities) - Disabling weekly seasonality. Run NeuralProphet with weekly_seasonality=True to override this.\n",
      "INFO - (NP.utils.set_auto_seasonalities) - Disabling daily seasonality. Run NeuralProphet with daily_seasonality=True to override this.\n",
      "INFO - (NP.config.set_auto_batch_epoch) - Auto-set batch_size to 16\n",
      "INFO - (NP.config.set_auto_batch_epoch) - Auto-set epochs to 668\n"
     ]
    },
    {
     "data": {
      "application/vnd.jupyter.widget-view+json": {
       "model_id": "1cdb3a6ddadf4894a79569cf88fd68bd",
       "version_major": 2,
       "version_minor": 0
      },
      "text/plain": [
       "  0%|          | 0/105 [00:00<?, ?it/s]"
      ]
     },
     "metadata": {},
     "output_type": "display_data"
    },
    {
     "name": "stderr",
     "output_type": "stream",
     "text": [
      "INFO - (NP.utils_torch.lr_range_test) - lr-range-test results: steep: 2.27E+00, min: 3.09E-01\n"
     ]
    },
    {
     "data": {
      "application/vnd.jupyter.widget-view+json": {
       "model_id": "90a86221fa4744d1b7d5cf334f312e5d",
       "version_major": 2,
       "version_minor": 0
      },
      "text/plain": [
       "  0%|          | 0/105 [00:00<?, ?it/s]"
      ]
     },
     "metadata": {},
     "output_type": "display_data"
    },
    {
     "name": "stderr",
     "output_type": "stream",
     "text": [
      "INFO - (NP.utils_torch.lr_range_test) - lr-range-test results: steep: 1.39E-01, min: 2.53E-01\n",
      "INFO - (NP.forecaster._init_train_loader) - lr-range-test selected learning rate: 3.16E-01\n",
      "Epoch[668/668]: 100%|████| 668/668 [00:07<00:00, 86.86it/s, SmoothL1Loss=0.00187, MAE=7.35e+7, RMSE=1.01e+8, RegLoss=0]\n",
      "INFO - (NP.df_utils._infer_frequency) - Major frequency MS corresponds to 90.278% of the data.\n",
      "INFO - (NP.df_utils._infer_frequency) - Defined frequency is equal to major frequency - MS\n",
      "INFO - (NP.df_utils._infer_frequency) - Major frequency MS corresponds to 89.744% of the data.\n",
      "INFO - (NP.df_utils._infer_frequency) - Defined frequency is equal to major frequency - MS\n",
      "INFO - (NP.df_utils._infer_frequency) - Major frequency MS corresponds to 89.744% of the data.\n",
      "INFO - (NP.df_utils._infer_frequency) - Defined frequency is equal to major frequency - MS\n"
     ]
    },
    {
     "data": {
      "text/html": [
       "<div>\n",
       "<style scoped>\n",
       "    .dataframe tbody tr th:only-of-type {\n",
       "        vertical-align: middle;\n",
       "    }\n",
       "\n",
       "    .dataframe tbody tr th {\n",
       "        vertical-align: top;\n",
       "    }\n",
       "\n",
       "    .dataframe thead th {\n",
       "        text-align: right;\n",
       "    }\n",
       "</style>\n",
       "<table border=\"1\" class=\"dataframe\">\n",
       "  <thead>\n",
       "    <tr style=\"text-align: right;\">\n",
       "      <th></th>\n",
       "      <th>real</th>\n",
       "      <th>predict</th>\n",
       "    </tr>\n",
       "    <tr>\n",
       "      <th>ds</th>\n",
       "      <th></th>\n",
       "      <th></th>\n",
       "    </tr>\n",
       "  </thead>\n",
       "  <tbody>\n",
       "    <tr>\n",
       "      <th>2021/1/1</th>\n",
       "      <td>2.095861e+09</td>\n",
       "      <td>1.878579e+09</td>\n",
       "    </tr>\n",
       "    <tr>\n",
       "      <th>2021/2/1</th>\n",
       "      <td>1.301106e+09</td>\n",
       "      <td>1.738105e+09</td>\n",
       "    </tr>\n",
       "    <tr>\n",
       "      <th>2021/3/1</th>\n",
       "      <td>2.414090e+09</td>\n",
       "      <td>2.762111e+09</td>\n",
       "    </tr>\n",
       "    <tr>\n",
       "      <th>2021/4/1</th>\n",
       "      <td>1.798340e+09</td>\n",
       "      <td>2.191002e+09</td>\n",
       "    </tr>\n",
       "    <tr>\n",
       "      <th>2021/5/1</th>\n",
       "      <td>1.743504e+09</td>\n",
       "      <td>2.120316e+09</td>\n",
       "    </tr>\n",
       "    <tr>\n",
       "      <th>2021/6/1</th>\n",
       "      <td>3.094749e+09</td>\n",
       "      <td>3.399444e+09</td>\n",
       "    </tr>\n",
       "  </tbody>\n",
       "</table>\n",
       "</div>"
      ],
      "text/plain": [
       "                  real       predict\n",
       "ds                                  \n",
       "2021/1/1  2.095861e+09  1.878579e+09\n",
       "2021/2/1  1.301106e+09  1.738105e+09\n",
       "2021/3/1  2.414090e+09  2.762111e+09\n",
       "2021/4/1  1.798340e+09  2.191002e+09\n",
       "2021/5/1  1.743504e+09  2.120316e+09\n",
       "2021/6/1  3.094749e+09  3.399444e+09"
      ]
     },
     "execution_count": 16,
     "metadata": {},
     "output_type": "execute_result"
    },
    {
     "data": {
      "image/png": "[encoded data removed]",
      "text/plain": [
       "<Figure size 432x288 with 1 Axes>"
      ]
     },
     "metadata": {
      "needs_background": "light"
     },
     "output_type": "display_data"
    }
   ],
   "source": [
    "# 划分训练部分，train——>训练数据（2017.1-2021.6）\n",
    "train=  Alldata[:-15]\n",
    "\n",
    "\n",
    "# 模型训练\n",
    "m = NeuralProphet(seasonality_mode=\"multiplicative\")\n",
    "metrics = m.fit(train, freq=\"MS\")\n",
    "\n",
    "\n",
    "# 预测2021.1-2021.6\n",
    "future = m.make_future_dataframe(df=train, periods=6, n_historic_predictions=len(train))\n",
    "forecast = m.predict(df=future)\n",
    "\n",
    "df = pd.DataFrame([Alldata.y[-15:-9],  forecast.yhat1[-6:]], index=['real', 'predict']).T\n",
    "df.index = Alldata.ds[-15:-9]\n",
    "\n",
    "\n",
    "# 可视化\n",
    "plt.plot(Alldata.y[-15:-9], 'b', label='real')\n",
    "plt.plot(forecast.yhat1[-6:], 'g', label='pre')\n",
    "plt.title('2021.1-2021.6')\n",
    "plt.legend()\n",
    "df"
   ]
  }
 ],
 "metadata": {
  "kernelspec": {
   "display_name": "exe2",
   "language": "python",
   "name": "exe2"
  },
  "language_info": {
   "codemirror_mode": {
    "name": "ipython",
    "version": 3
   },
   "file_extension": ".py",
   "mimetype": "text/x-python",
   "name": "python",
   "nbconvert_exporter": "python",
   "pygments_lexer": "ipython3",
   "version": "3.9.0"
  }
 },
 "nbformat": 4,
 "nbformat_minor": 5
}
